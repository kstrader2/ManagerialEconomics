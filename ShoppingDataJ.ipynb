{
 "cells": [
  {
   "cell_type": "code",
   "execution_count": 2,
   "id": "initial_id",
   "metadata": {
    "collapsed": true,
    "ExecuteTime": {
     "end_time": "2024-03-13T20:40:18.304367800Z",
     "start_time": "2024-03-13T20:40:17.412712600Z"
    }
   },
   "outputs": [
    {
     "data": {
      "text/plain": "   Customer ID  Age Gender Item Purchased  Category  Purchase Amount (USD)  \\\n0            1   55   Male         Blouse  Clothing                     53   \n1            2   19   Male        Sweater  Clothing                     64   \n2            3   50   Male          Jeans  Clothing                     73   \n3            4   21   Male        Sandals  Footwear                     90   \n4            5   45   Male         Blouse  Clothing                     49   \n\n        Location Size      Color  Season  Review Rating Subscription Status  \\\n0       Kentucky    L       Gray  Winter            3.1                 Yes   \n1          Maine    L     Maroon  Winter            3.1                 Yes   \n2  Massachusetts    S     Maroon  Spring            3.1                 Yes   \n3   Rhode Island    M     Maroon  Spring            3.5                 Yes   \n4         Oregon    M  Turquoise  Spring            2.7                 Yes   \n\n   Shipping Type Discount Applied Promo Code Used  Previous Purchases  \\\n0        Express              Yes             Yes                  14   \n1        Express              Yes             Yes                   2   \n2  Free Shipping              Yes             Yes                  23   \n3   Next Day Air              Yes             Yes                  49   \n4  Free Shipping              Yes             Yes                  31   \n\n  Payment Method Frequency of Purchases  \n0          Venmo            Fortnightly  \n1           Cash            Fortnightly  \n2    Credit Card                 Weekly  \n3         PayPal                 Weekly  \n4         PayPal               Annually  ",
      "text/html": "<div>\n<style scoped>\n    .dataframe tbody tr th:only-of-type {\n        vertical-align: middle;\n    }\n\n    .dataframe tbody tr th {\n        vertical-align: top;\n    }\n\n    .dataframe thead th {\n        text-align: right;\n    }\n</style>\n<table border=\"1\" class=\"dataframe\">\n  <thead>\n    <tr style=\"text-align: right;\">\n      <th></th>\n      <th>Customer ID</th>\n      <th>Age</th>\n      <th>Gender</th>\n      <th>Item Purchased</th>\n      <th>Category</th>\n      <th>Purchase Amount (USD)</th>\n      <th>Location</th>\n      <th>Size</th>\n      <th>Color</th>\n      <th>Season</th>\n      <th>Review Rating</th>\n      <th>Subscription Status</th>\n      <th>Shipping Type</th>\n      <th>Discount Applied</th>\n      <th>Promo Code Used</th>\n      <th>Previous Purchases</th>\n      <th>Payment Method</th>\n      <th>Frequency of Purchases</th>\n    </tr>\n  </thead>\n  <tbody>\n    <tr>\n      <th>0</th>\n      <td>1</td>\n      <td>55</td>\n      <td>Male</td>\n      <td>Blouse</td>\n      <td>Clothing</td>\n      <td>53</td>\n      <td>Kentucky</td>\n      <td>L</td>\n      <td>Gray</td>\n      <td>Winter</td>\n      <td>3.1</td>\n      <td>Yes</td>\n      <td>Express</td>\n      <td>Yes</td>\n      <td>Yes</td>\n      <td>14</td>\n      <td>Venmo</td>\n      <td>Fortnightly</td>\n    </tr>\n    <tr>\n      <th>1</th>\n      <td>2</td>\n      <td>19</td>\n      <td>Male</td>\n      <td>Sweater</td>\n      <td>Clothing</td>\n      <td>64</td>\n      <td>Maine</td>\n      <td>L</td>\n      <td>Maroon</td>\n      <td>Winter</td>\n      <td>3.1</td>\n      <td>Yes</td>\n      <td>Express</td>\n      <td>Yes</td>\n      <td>Yes</td>\n      <td>2</td>\n      <td>Cash</td>\n      <td>Fortnightly</td>\n    </tr>\n    <tr>\n      <th>2</th>\n      <td>3</td>\n      <td>50</td>\n      <td>Male</td>\n      <td>Jeans</td>\n      <td>Clothing</td>\n      <td>73</td>\n      <td>Massachusetts</td>\n      <td>S</td>\n      <td>Maroon</td>\n      <td>Spring</td>\n      <td>3.1</td>\n      <td>Yes</td>\n      <td>Free Shipping</td>\n      <td>Yes</td>\n      <td>Yes</td>\n      <td>23</td>\n      <td>Credit Card</td>\n      <td>Weekly</td>\n    </tr>\n    <tr>\n      <th>3</th>\n      <td>4</td>\n      <td>21</td>\n      <td>Male</td>\n      <td>Sandals</td>\n      <td>Footwear</td>\n      <td>90</td>\n      <td>Rhode Island</td>\n      <td>M</td>\n      <td>Maroon</td>\n      <td>Spring</td>\n      <td>3.5</td>\n      <td>Yes</td>\n      <td>Next Day Air</td>\n      <td>Yes</td>\n      <td>Yes</td>\n      <td>49</td>\n      <td>PayPal</td>\n      <td>Weekly</td>\n    </tr>\n    <tr>\n      <th>4</th>\n      <td>5</td>\n      <td>45</td>\n      <td>Male</td>\n      <td>Blouse</td>\n      <td>Clothing</td>\n      <td>49</td>\n      <td>Oregon</td>\n      <td>M</td>\n      <td>Turquoise</td>\n      <td>Spring</td>\n      <td>2.7</td>\n      <td>Yes</td>\n      <td>Free Shipping</td>\n      <td>Yes</td>\n      <td>Yes</td>\n      <td>31</td>\n      <td>PayPal</td>\n      <td>Annually</td>\n    </tr>\n  </tbody>\n</table>\n</div>"
     },
     "execution_count": 2,
     "metadata": {},
     "output_type": "execute_result"
    }
   ],
   "source": [
    "import pandas as pd\n",
    "DataDir = r'C:\\Users\\Patron\\Documents\\GitHub\\ManagerialEconomics\\AAE625GitHub\\MgrlEconAnaPub\\ElasticityPricingStrategyAnalysis'\n",
    "NewDir = DataDir\n",
    "df_retail = pd.read_csv(NewDir + '\\\\shopping_behavior_updated.csv')\n",
    "df_retail.head()"
   ]
  },
  {
   "cell_type": "code",
   "outputs": [
    {
     "name": "stdout",
     "output_type": "stream",
     "text": [
      "<class 'pandas.core.frame.DataFrame'>\n",
      "RangeIndex: 3900 entries, 0 to 3899\n",
      "Data columns (total 18 columns):\n",
      " #   Column                  Non-Null Count  Dtype  \n",
      "---  ------                  --------------  -----  \n",
      " 0   Customer ID             3900 non-null   int64  \n",
      " 1   Age                     3900 non-null   int64  \n",
      " 2   Gender                  3900 non-null   object \n",
      " 3   Item Purchased          3900 non-null   object \n",
      " 4   Category                3900 non-null   object \n",
      " 5   Purchase Amount (USD)   3900 non-null   int64  \n",
      " 6   Location                3900 non-null   object \n",
      " 7   Size                    3900 non-null   object \n",
      " 8   Color                   3900 non-null   object \n",
      " 9   Season                  3900 non-null   object \n",
      " 10  Review Rating           3900 non-null   float64\n",
      " 11  Subscription Status     3900 non-null   object \n",
      " 12  Shipping Type           3900 non-null   object \n",
      " 13  Discount Applied        3900 non-null   object \n",
      " 14  Promo Code Used         3900 non-null   object \n",
      " 15  Previous Purchases      3900 non-null   int64  \n",
      " 16  Payment Method          3900 non-null   object \n",
      " 17  Frequency of Purchases  3900 non-null   object \n",
      "dtypes: float64(1), int64(4), object(13)\n",
      "memory usage: 548.6+ KB\n"
     ]
    }
   ],
   "source": [
    "df_retail.info()"
   ],
   "metadata": {
    "collapsed": false,
    "ExecuteTime": {
     "end_time": "2024-03-13T20:41:20.628416100Z",
     "start_time": "2024-03-13T20:41:20.605567Z"
    }
   },
   "id": "80596238d27fe7bf",
   "execution_count": 3
  },
  {
   "cell_type": "code",
   "outputs": [
    {
     "data": {
      "text/plain": "       Customer ID          Age  Purchase Amount (USD)  Review Rating  \\\ncount  3900.000000  3900.000000            3900.000000    3900.000000   \nmean   1950.500000    44.068462              59.764359       3.749949   \nstd    1125.977353    15.207589              23.685392       0.716223   \nmin       1.000000    18.000000              20.000000       2.500000   \n25%     975.750000    31.000000              39.000000       3.100000   \n50%    1950.500000    44.000000              60.000000       3.700000   \n75%    2925.250000    57.000000              81.000000       4.400000   \nmax    3900.000000    70.000000             100.000000       5.000000   \n\n       Previous Purchases  \ncount         3900.000000  \nmean            25.351538  \nstd             14.447125  \nmin              1.000000  \n25%             13.000000  \n50%             25.000000  \n75%             38.000000  \nmax             50.000000  ",
      "text/html": "<div>\n<style scoped>\n    .dataframe tbody tr th:only-of-type {\n        vertical-align: middle;\n    }\n\n    .dataframe tbody tr th {\n        vertical-align: top;\n    }\n\n    .dataframe thead th {\n        text-align: right;\n    }\n</style>\n<table border=\"1\" class=\"dataframe\">\n  <thead>\n    <tr style=\"text-align: right;\">\n      <th></th>\n      <th>Customer ID</th>\n      <th>Age</th>\n      <th>Purchase Amount (USD)</th>\n      <th>Review Rating</th>\n      <th>Previous Purchases</th>\n    </tr>\n  </thead>\n  <tbody>\n    <tr>\n      <th>count</th>\n      <td>3900.000000</td>\n      <td>3900.000000</td>\n      <td>3900.000000</td>\n      <td>3900.000000</td>\n      <td>3900.000000</td>\n    </tr>\n    <tr>\n      <th>mean</th>\n      <td>1950.500000</td>\n      <td>44.068462</td>\n      <td>59.764359</td>\n      <td>3.749949</td>\n      <td>25.351538</td>\n    </tr>\n    <tr>\n      <th>std</th>\n      <td>1125.977353</td>\n      <td>15.207589</td>\n      <td>23.685392</td>\n      <td>0.716223</td>\n      <td>14.447125</td>\n    </tr>\n    <tr>\n      <th>min</th>\n      <td>1.000000</td>\n      <td>18.000000</td>\n      <td>20.000000</td>\n      <td>2.500000</td>\n      <td>1.000000</td>\n    </tr>\n    <tr>\n      <th>25%</th>\n      <td>975.750000</td>\n      <td>31.000000</td>\n      <td>39.000000</td>\n      <td>3.100000</td>\n      <td>13.000000</td>\n    </tr>\n    <tr>\n      <th>50%</th>\n      <td>1950.500000</td>\n      <td>44.000000</td>\n      <td>60.000000</td>\n      <td>3.700000</td>\n      <td>25.000000</td>\n    </tr>\n    <tr>\n      <th>75%</th>\n      <td>2925.250000</td>\n      <td>57.000000</td>\n      <td>81.000000</td>\n      <td>4.400000</td>\n      <td>38.000000</td>\n    </tr>\n    <tr>\n      <th>max</th>\n      <td>3900.000000</td>\n      <td>70.000000</td>\n      <td>100.000000</td>\n      <td>5.000000</td>\n      <td>50.000000</td>\n    </tr>\n  </tbody>\n</table>\n</div>"
     },
     "execution_count": 4,
     "metadata": {},
     "output_type": "execute_result"
    }
   ],
   "source": [
    "df_retail.describe()"
   ],
   "metadata": {
    "collapsed": false,
    "ExecuteTime": {
     "end_time": "2024-03-13T20:41:46.700337700Z",
     "start_time": "2024-03-13T20:41:46.680469900Z"
    }
   },
   "id": "c36496b0b2aeae93",
   "execution_count": 4
  },
  {
   "cell_type": "code",
   "outputs": [
    {
     "data": {
      "text/plain": "Index(['Customer ID', 'Age', 'Gender', 'Item Purchased', 'Category',\n       'Purchase Amount (USD)', 'Location', 'Size', 'Color', 'Season',\n       'Review Rating', 'Subscription Status', 'Shipping Type',\n       'Discount Applied', 'Promo Code Used', 'Previous Purchases',\n       'Payment Method', 'Frequency of Purchases'],\n      dtype='object')"
     },
     "execution_count": 8,
     "metadata": {},
     "output_type": "execute_result"
    }
   ],
   "source": [
    "#Generate column names\n",
    "df_retail.columns"
   ],
   "metadata": {
    "collapsed": false,
    "ExecuteTime": {
     "end_time": "2024-03-13T20:42:44.892267900Z",
     "start_time": "2024-03-13T20:42:44.875325700Z"
    }
   },
   "id": "68631a8acdc63b6d",
   "execution_count": 8
  },
  {
   "cell_type": "code",
   "outputs": [
    {
     "data": {
      "text/plain": "Customer ID               3900\nAge                         53\nGender                       2\nItem Purchased              25\nCategory                     4\nPurchase Amount (USD)       81\nLocation                    50\nSize                         4\nColor                       25\nSeason                       4\nReview Rating               26\nSubscription Status          2\nShipping Type                6\nDiscount Applied             2\nPromo Code Used              2\nPrevious Purchases          50\nPayment Method               6\nFrequency of Purchases       7\ndtype: int64"
     },
     "execution_count": 9,
     "metadata": {},
     "output_type": "execute_result"
    }
   ],
   "source": [
    "#Generate count of unique values\n",
    "df_retail.nunique()"
   ],
   "metadata": {
    "collapsed": false,
    "ExecuteTime": {
     "end_time": "2024-03-13T20:43:42.903433800Z",
     "start_time": "2024-03-13T20:43:42.887062800Z"
    }
   },
   "id": "ee12621345df03f9",
   "execution_count": 9
  },
  {
   "cell_type": "code",
   "outputs": [
    {
     "data": {
      "text/plain": "                  mean  median   sum\nLocation                            \nAlabama      59.112360    56.0  5261\nAlaska       67.597222    68.5  4867\nArizona      66.553846    68.0  4326\nArkansas     61.113924    58.0  4828\nCalifornia   59.000000    57.0  5605\nColorado     56.293333    51.0  4222\nConnecticut  54.179487    48.5  4226\nDelaware     55.325581    52.5  4758\nFlorida      55.852941    56.0  3798\nGeorgia      58.797468    62.0  4645",
      "text/html": "<div>\n<style scoped>\n    .dataframe tbody tr th:only-of-type {\n        vertical-align: middle;\n    }\n\n    .dataframe tbody tr th {\n        vertical-align: top;\n    }\n\n    .dataframe thead th {\n        text-align: right;\n    }\n</style>\n<table border=\"1\" class=\"dataframe\">\n  <thead>\n    <tr style=\"text-align: right;\">\n      <th></th>\n      <th>mean</th>\n      <th>median</th>\n      <th>sum</th>\n    </tr>\n    <tr>\n      <th>Location</th>\n      <th></th>\n      <th></th>\n      <th></th>\n    </tr>\n  </thead>\n  <tbody>\n    <tr>\n      <th>Alabama</th>\n      <td>59.112360</td>\n      <td>56.0</td>\n      <td>5261</td>\n    </tr>\n    <tr>\n      <th>Alaska</th>\n      <td>67.597222</td>\n      <td>68.5</td>\n      <td>4867</td>\n    </tr>\n    <tr>\n      <th>Arizona</th>\n      <td>66.553846</td>\n      <td>68.0</td>\n      <td>4326</td>\n    </tr>\n    <tr>\n      <th>Arkansas</th>\n      <td>61.113924</td>\n      <td>58.0</td>\n      <td>4828</td>\n    </tr>\n    <tr>\n      <th>California</th>\n      <td>59.000000</td>\n      <td>57.0</td>\n      <td>5605</td>\n    </tr>\n    <tr>\n      <th>Colorado</th>\n      <td>56.293333</td>\n      <td>51.0</td>\n      <td>4222</td>\n    </tr>\n    <tr>\n      <th>Connecticut</th>\n      <td>54.179487</td>\n      <td>48.5</td>\n      <td>4226</td>\n    </tr>\n    <tr>\n      <th>Delaware</th>\n      <td>55.325581</td>\n      <td>52.5</td>\n      <td>4758</td>\n    </tr>\n    <tr>\n      <th>Florida</th>\n      <td>55.852941</td>\n      <td>56.0</td>\n      <td>3798</td>\n    </tr>\n    <tr>\n      <th>Georgia</th>\n      <td>58.797468</td>\n      <td>62.0</td>\n      <td>4645</td>\n    </tr>\n  </tbody>\n</table>\n</div>"
     },
     "execution_count": 10,
     "metadata": {},
     "output_type": "execute_result"
    }
   ],
   "source": [
    "#Generate location purchase statistics \n",
    "location_purchase_info = df_retail.groupby(\"Location\")[\"Purchase Amount (USD)\"].agg([\"mean\", \"median\", \"sum\"])\n",
    "location_purchase_info.head(10)"
   ],
   "metadata": {
    "collapsed": false,
    "ExecuteTime": {
     "end_time": "2024-03-13T20:44:21.846838300Z",
     "start_time": "2024-03-13T20:44:21.817195500Z"
    }
   },
   "id": "3eed45b9fb389484",
   "execution_count": 10
  },
  {
   "cell_type": "code",
   "outputs": [
    {
     "data": {
      "text/plain": "     Customer ID  Age Gender Item Purchased     Category  \\\n0              1   55   Male         Blouse     Clothing   \n1              2   19   Male        Sweater     Clothing   \n2              3   50   Male          Jeans     Clothing   \n3              4   21   Male        Sandals     Footwear   \n4              5   45   Male         Blouse     Clothing   \n..           ...  ...    ...            ...          ...   \n447          448   60   Male         Shorts     Clothing   \n450          451   25   Male          Boots     Footwear   \n492          493   50   Male          Shirt     Clothing   \n495          496   33   Male        Handbag  Accessories   \n557          558   18   Male          Shirt     Clothing   \n\n     Purchase Amount (USD)       Location Size      Color  Season  \\\n0                       53       Kentucky    L       Gray  Winter   \n1                       64          Maine    L     Maroon  Winter   \n2                       73  Massachusetts    S     Maroon  Spring   \n3                       90   Rhode Island    M     Maroon  Spring   \n4                       49         Oregon    M  Turquoise  Spring   \n..                     ...            ...  ...        ...     ...   \n447                     82     Washington    S  Turquoise  Spring   \n450                     21    Connecticut    L      Beige  Summer   \n492                     62       Michigan    M      Black    Fall   \n495                     36       Michigan   XL       Cyan    Fall   \n557                     60         Alaska    M      White  Spring   \n\n     Review Rating Subscription Status  Shipping Type Discount Applied  \\\n0              3.1                 Yes        Express              Yes   \n1              3.1                 Yes        Express              Yes   \n2              3.1                 Yes  Free Shipping              Yes   \n3              3.5                 Yes   Next Day Air              Yes   \n4              2.7                 Yes  Free Shipping              Yes   \n..             ...                 ...            ...              ...   \n447            3.6                 Yes       Standard              Yes   \n450            2.7                 Yes   Store Pickup              Yes   \n492            3.9                 Yes       Standard              Yes   \n495            3.3                 Yes  Free Shipping              Yes   \n557            2.9                 Yes  Free Shipping              Yes   \n\n    Promo Code Used  Previous Purchases Payment Method Frequency of Purchases  \n0               Yes                  14          Venmo            Fortnightly  \n1               Yes                   2           Cash            Fortnightly  \n2               Yes                  23    Credit Card                 Weekly  \n3               Yes                  49         PayPal                 Weekly  \n4               Yes                  31         PayPal               Annually  \n..              ...                 ...            ...                    ...  \n447             Yes                   7  Bank Transfer         Every 3 Months  \n450             Yes                  19    Credit Card                Monthly  \n492             Yes                  11     Debit Card                 Weekly  \n495             Yes                   6     Debit Card            Fortnightly  \n557             Yes                  31     Debit Card                 Weekly  \n\n[250 rows x 18 columns]",
      "text/html": "<div>\n<style scoped>\n    .dataframe tbody tr th:only-of-type {\n        vertical-align: middle;\n    }\n\n    .dataframe tbody tr th {\n        vertical-align: top;\n    }\n\n    .dataframe thead th {\n        text-align: right;\n    }\n</style>\n<table border=\"1\" class=\"dataframe\">\n  <thead>\n    <tr style=\"text-align: right;\">\n      <th></th>\n      <th>Customer ID</th>\n      <th>Age</th>\n      <th>Gender</th>\n      <th>Item Purchased</th>\n      <th>Category</th>\n      <th>Purchase Amount (USD)</th>\n      <th>Location</th>\n      <th>Size</th>\n      <th>Color</th>\n      <th>Season</th>\n      <th>Review Rating</th>\n      <th>Subscription Status</th>\n      <th>Shipping Type</th>\n      <th>Discount Applied</th>\n      <th>Promo Code Used</th>\n      <th>Previous Purchases</th>\n      <th>Payment Method</th>\n      <th>Frequency of Purchases</th>\n    </tr>\n  </thead>\n  <tbody>\n    <tr>\n      <th>0</th>\n      <td>1</td>\n      <td>55</td>\n      <td>Male</td>\n      <td>Blouse</td>\n      <td>Clothing</td>\n      <td>53</td>\n      <td>Kentucky</td>\n      <td>L</td>\n      <td>Gray</td>\n      <td>Winter</td>\n      <td>3.1</td>\n      <td>Yes</td>\n      <td>Express</td>\n      <td>Yes</td>\n      <td>Yes</td>\n      <td>14</td>\n      <td>Venmo</td>\n      <td>Fortnightly</td>\n    </tr>\n    <tr>\n      <th>1</th>\n      <td>2</td>\n      <td>19</td>\n      <td>Male</td>\n      <td>Sweater</td>\n      <td>Clothing</td>\n      <td>64</td>\n      <td>Maine</td>\n      <td>L</td>\n      <td>Maroon</td>\n      <td>Winter</td>\n      <td>3.1</td>\n      <td>Yes</td>\n      <td>Express</td>\n      <td>Yes</td>\n      <td>Yes</td>\n      <td>2</td>\n      <td>Cash</td>\n      <td>Fortnightly</td>\n    </tr>\n    <tr>\n      <th>2</th>\n      <td>3</td>\n      <td>50</td>\n      <td>Male</td>\n      <td>Jeans</td>\n      <td>Clothing</td>\n      <td>73</td>\n      <td>Massachusetts</td>\n      <td>S</td>\n      <td>Maroon</td>\n      <td>Spring</td>\n      <td>3.1</td>\n      <td>Yes</td>\n      <td>Free Shipping</td>\n      <td>Yes</td>\n      <td>Yes</td>\n      <td>23</td>\n      <td>Credit Card</td>\n      <td>Weekly</td>\n    </tr>\n    <tr>\n      <th>3</th>\n      <td>4</td>\n      <td>21</td>\n      <td>Male</td>\n      <td>Sandals</td>\n      <td>Footwear</td>\n      <td>90</td>\n      <td>Rhode Island</td>\n      <td>M</td>\n      <td>Maroon</td>\n      <td>Spring</td>\n      <td>3.5</td>\n      <td>Yes</td>\n      <td>Next Day Air</td>\n      <td>Yes</td>\n      <td>Yes</td>\n      <td>49</td>\n      <td>PayPal</td>\n      <td>Weekly</td>\n    </tr>\n    <tr>\n      <th>4</th>\n      <td>5</td>\n      <td>45</td>\n      <td>Male</td>\n      <td>Blouse</td>\n      <td>Clothing</td>\n      <td>49</td>\n      <td>Oregon</td>\n      <td>M</td>\n      <td>Turquoise</td>\n      <td>Spring</td>\n      <td>2.7</td>\n      <td>Yes</td>\n      <td>Free Shipping</td>\n      <td>Yes</td>\n      <td>Yes</td>\n      <td>31</td>\n      <td>PayPal</td>\n      <td>Annually</td>\n    </tr>\n    <tr>\n      <th>...</th>\n      <td>...</td>\n      <td>...</td>\n      <td>...</td>\n      <td>...</td>\n      <td>...</td>\n      <td>...</td>\n      <td>...</td>\n      <td>...</td>\n      <td>...</td>\n      <td>...</td>\n      <td>...</td>\n      <td>...</td>\n      <td>...</td>\n      <td>...</td>\n      <td>...</td>\n      <td>...</td>\n      <td>...</td>\n      <td>...</td>\n    </tr>\n    <tr>\n      <th>447</th>\n      <td>448</td>\n      <td>60</td>\n      <td>Male</td>\n      <td>Shorts</td>\n      <td>Clothing</td>\n      <td>82</td>\n      <td>Washington</td>\n      <td>S</td>\n      <td>Turquoise</td>\n      <td>Spring</td>\n      <td>3.6</td>\n      <td>Yes</td>\n      <td>Standard</td>\n      <td>Yes</td>\n      <td>Yes</td>\n      <td>7</td>\n      <td>Bank Transfer</td>\n      <td>Every 3 Months</td>\n    </tr>\n    <tr>\n      <th>450</th>\n      <td>451</td>\n      <td>25</td>\n      <td>Male</td>\n      <td>Boots</td>\n      <td>Footwear</td>\n      <td>21</td>\n      <td>Connecticut</td>\n      <td>L</td>\n      <td>Beige</td>\n      <td>Summer</td>\n      <td>2.7</td>\n      <td>Yes</td>\n      <td>Store Pickup</td>\n      <td>Yes</td>\n      <td>Yes</td>\n      <td>19</td>\n      <td>Credit Card</td>\n      <td>Monthly</td>\n    </tr>\n    <tr>\n      <th>492</th>\n      <td>493</td>\n      <td>50</td>\n      <td>Male</td>\n      <td>Shirt</td>\n      <td>Clothing</td>\n      <td>62</td>\n      <td>Michigan</td>\n      <td>M</td>\n      <td>Black</td>\n      <td>Fall</td>\n      <td>3.9</td>\n      <td>Yes</td>\n      <td>Standard</td>\n      <td>Yes</td>\n      <td>Yes</td>\n      <td>11</td>\n      <td>Debit Card</td>\n      <td>Weekly</td>\n    </tr>\n    <tr>\n      <th>495</th>\n      <td>496</td>\n      <td>33</td>\n      <td>Male</td>\n      <td>Handbag</td>\n      <td>Accessories</td>\n      <td>36</td>\n      <td>Michigan</td>\n      <td>XL</td>\n      <td>Cyan</td>\n      <td>Fall</td>\n      <td>3.3</td>\n      <td>Yes</td>\n      <td>Free Shipping</td>\n      <td>Yes</td>\n      <td>Yes</td>\n      <td>6</td>\n      <td>Debit Card</td>\n      <td>Fortnightly</td>\n    </tr>\n    <tr>\n      <th>557</th>\n      <td>558</td>\n      <td>18</td>\n      <td>Male</td>\n      <td>Shirt</td>\n      <td>Clothing</td>\n      <td>60</td>\n      <td>Alaska</td>\n      <td>M</td>\n      <td>White</td>\n      <td>Spring</td>\n      <td>2.9</td>\n      <td>Yes</td>\n      <td>Free Shipping</td>\n      <td>Yes</td>\n      <td>Yes</td>\n      <td>31</td>\n      <td>Debit Card</td>\n      <td>Weekly</td>\n    </tr>\n  </tbody>\n</table>\n<p>250 rows × 18 columns</p>\n</div>"
     },
     "execution_count": 11,
     "metadata": {},
     "output_type": "execute_result"
    }
   ],
   "source": [
    "#Create regional groups to analyze regional trends \n",
    "location_groups = df_retail.groupby(\"Location\")\n",
    "location_groups.head()"
   ],
   "metadata": {
    "collapsed": false,
    "ExecuteTime": {
     "end_time": "2024-03-13T20:47:59.435896700Z",
     "start_time": "2024-03-13T20:47:59.404984700Z"
    }
   },
   "id": "d19c6b8f7231d52a",
   "execution_count": 11
  },
  {
   "cell_type": "code",
   "outputs": [
    {
     "data": {
      "text/plain": "Location\nAlaska            67.597222\nPennsylvania      66.567568\nArizona           66.553846\nWest Virginia     63.876543\nNevada            63.379310\nWashington        63.328767\nNorth Dakota      62.891566\nVirginia          62.883117\nUtah              62.577465\nMichigan          62.095890\nTennessee         61.974026\nNew Mexico        61.901235\nRhode Island      61.444444\nTexas             61.194805\nArkansas          61.113924\nIllinois          61.054348\nMississippi       61.037500\nMassachusetts     60.888889\nIowa              60.884058\nNorth Carolina    60.794872\nWyoming           60.690141\nSouth Dakota      60.514286\nNew York          60.425287\nOhio              60.376623\nMontana           60.250000\nIdaho             60.075269\nNebraska          59.448276\nNew Hampshire     59.422535\nAlabama           59.112360\nCalifornia        59.000000\nIndiana           58.924051\nGeorgia           58.797468\nSouth Carolina    58.407895\nOklahoma          58.346667\nMissouri          57.913580\nHawaii            57.723077\nLouisiana         57.714286\nOregon            57.337838\nVermont           57.176471\nMaine             56.987013\nNew Jersey        56.746269\nMinnesota         56.556818\nColorado          56.293333\nWisconsin         55.946667\nFlorida           55.852941\nMaryland          55.755814\nKentucky          55.721519\nDelaware          55.325581\nKansas            54.555556\nConnecticut       54.179487\nName: Purchase Amount (USD), dtype: float64"
     },
     "execution_count": 12,
     "metadata": {},
     "output_type": "execute_result"
    }
   ],
   "source": [
    "#Analyze average price by region \n",
    "avg_price = location_groups[\"Purchase Amount (USD)\"].mean()\n",
    "avg_price.sort_values(ascending = False)"
   ],
   "metadata": {
    "collapsed": false,
    "ExecuteTime": {
     "end_time": "2024-03-13T20:48:25.251817400Z",
     "start_time": "2024-03-13T20:48:25.197856Z"
    }
   },
   "id": "44d15d43fb9390fb",
   "execution_count": 12
  },
  {
   "cell_type": "code",
   "outputs": [
    {
     "data": {
      "text/plain": "<Axes: title={'center': 'Impact of Promo Code Used on Purchase'}, ylabel='count'>"
     },
     "execution_count": 14,
     "metadata": {},
     "output_type": "execute_result"
    },
    {
     "data": {
      "text/plain": "<Figure size 640x480 with 1 Axes>",
      "image/png": "[encoded data removed]"
     },
     "metadata": {},
     "output_type": "display_data"
    }
   ],
   "source": [
    "promocode_used = df_retail[\"Promo Code Used\"].value_counts()\n",
    "promocode_used.plot(kind = \"pie\", autopct = '%.1f%%', title = \"Impact of Promo Code Used on Purchase\")  "
   ],
   "metadata": {
    "collapsed": false,
    "ExecuteTime": {
     "end_time": "2024-03-14T14:08:18.555374Z",
     "start_time": "2024-03-14T14:08:17.327610700Z"
    }
   },
   "id": "9adc8f3524e33b48",
   "execution_count": 14
  },
  {
   "cell_type": "code",
   "outputs": [
    {
     "data": {
      "text/plain": "Item Purchased\nJewelry       171\nBlouse        171\nPants         171\nShirt         169\nDress         166\nSweater       164\nJacket        163\nCoat          161\nSunglasses    161\nBelt          161\nSandals       160\nSocks         159\nSkirt         158\nScarf         157\nShorts        157\nHat           154\nHandbag       153\nHoodie        151\nShoes         150\nT-shirt       147\nSneakers      145\nBoots         144\nBackpack      143\nGloves        140\nJeans         124\nName: Purchase Amount (USD), dtype: int64"
     },
     "execution_count": 15,
     "metadata": {},
     "output_type": "execute_result"
    }
   ],
   "source": [
    "#Determine items most frequently purchased\n",
    "total_items = df_retail.groupby('Item Purchased')['Purchase Amount (USD)'].count()\n",
    "total_items_sorted = total_items.sort_values(ascending=False)\n",
    "total_items_sorted"
   ],
   "metadata": {
    "collapsed": false,
    "ExecuteTime": {
     "end_time": "2024-03-14T14:24:09.473519Z",
     "start_time": "2024-03-14T14:24:09.455241400Z"
    }
   },
   "id": "b9cfd8367d3fab2",
   "execution_count": 15
  },
  {
   "cell_type": "code",
   "outputs": [
    {
     "name": "stdout",
     "output_type": "stream",
     "text": [
      "Selected Items and Prices: {'Jeans': 3650, 'Gloves': 800}\n",
      "Total Price before Discount: $4450.00\n",
      "Discounted Price (50% off): $2225.00\n"
     ]
    }
   ],
   "source": [
    "#Based on the frequencies above, a good strategy may be to create a bundle 'least_purchased_bundle' with a discount to encourage consumers to purchase\n",
    "def least_purchased_bundle(item1_price, item2_price, discount_percent):\n",
    "    prices = {'Jeans': item1_price, 'Gloves': item2_price}\n",
    "    total_price = sum(prices.values())\n",
    "    discounted_price = total_price * (1 - discount_percent / 100)\n",
    "\n",
    "    print(f\"Selected Items and Prices: {prices}\")\n",
    "    print(f\"Total Price before Discount: ${total_price:.2f}\")\n",
    "    print(f\"Discounted Price (50% off): ${discounted_price:.2f}\")\n",
    "\n",
    "least_purchased_bundle(3650, 800, 50)"
   ],
   "metadata": {
    "collapsed": false,
    "ExecuteTime": {
     "end_time": "2024-03-14T14:27:36.468084700Z",
     "start_time": "2024-03-14T14:27:36.408665400Z"
    }
   },
   "id": "8c05dbfe0b28af37",
   "execution_count": 20
  },
  {
   "cell_type": "code",
   "outputs": [],
   "source": [
    "#To investigate elasticities, we will first need to take the natural log of each variable:\n",
    "import numpy as np\n",
    "df_retail['LN_PRICE'] = np.log(df_retail['Purchase Amount (USD)'])\n",
    "df_retail['LN_REVENUE'] = np.log(df_retail['Purchase Amount (USD)'])\n"
   ],
   "metadata": {
    "collapsed": false,
    "ExecuteTime": {
     "end_time": "2024-03-14T14:36:13.992200900Z",
     "start_time": "2024-03-14T14:36:13.983418300Z"
    }
   },
   "id": "e9ec0590ee4638cd",
   "execution_count": 27
  },
  {
   "cell_type": "code",
   "outputs": [],
   "source": [],
   "metadata": {
    "collapsed": false,
    "ExecuteTime": {
     "end_time": "2024-03-14T14:36:11.930249200Z",
     "start_time": "2024-03-14T14:36:11.900721800Z"
    }
   },
   "id": "b061dcc687780fb4",
   "execution_count": 26
  },
  {
   "cell_type": "code",
   "outputs": [],
   "source": [],
   "metadata": {
    "collapsed": false
   },
   "id": "da65f62cfd63c9c6"
  }
 ],
 "metadata": {
  "kernelspec": {
   "display_name": "Python 3",
   "language": "python",
   "name": "python3"
  },
  "language_info": {
   "codemirror_mode": {
    "name": "ipython",
    "version": 2
   },
   "file_extension": ".py",
   "mimetype": "text/x-python",
   "name": "python",
   "nbconvert_exporter": "python",
   "pygments_lexer": "ipython2",
   "version": "2.7.6"
  }
 },
 "nbformat": 4,
 "nbformat_minor": 5
}
